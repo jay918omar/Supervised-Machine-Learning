{
 "cells": [
  {
   "cell_type": "code",
   "execution_count": 58,
   "metadata": {},
   "outputs": [],
   "source": [
    "%config IPCompleter.greedy=True"
   ]
  },
  {
   "cell_type": "code",
   "execution_count": 59,
   "metadata": {},
   "outputs": [],
   "source": [
    "import numpy as np\n",
    "import pandas as pd\n",
    "import matplotlib.pyplot as plt"
   ]
  },
  {
   "cell_type": "code",
   "execution_count": 60,
   "metadata": {},
   "outputs": [
    {
     "name": "stdout",
     "output_type": "stream",
     "text": [
      "    Unnamed: 0  YearsExperience  Salary\n",
      "0            1              1.1   39343\n",
      "1            2              1.3   46205\n",
      "2            3              1.5   37731\n",
      "3            4              1.7   43525\n",
      "4            5              1.9   39891\n",
      "5            6              2.1   56642\n",
      "6            7              2.3   60150\n",
      "7            8              2.3   54445\n",
      "8            9              2.9   64445\n",
      "9           10              3.0   57189\n",
      "10          11              3.1   63218\n",
      "11          12              3.3   55794\n",
      "12          13              3.5   56957\n",
      "13          14              3.8   57081\n",
      "14          15              3.9   61111\n",
      "15          16              4.1   67938\n",
      "16          17              4.1   66029\n",
      "17          18              4.5   83088\n",
      "18          19              4.5   81368\n",
      "19          20              4.9   93940\n",
      "20          21              5.1   91738\n",
      "21          22              5.3   98273\n",
      "22          23              5.9  101302\n",
      "23          24              6.1  113812\n",
      "24          25              6.9  109431\n",
      "25          26              7.0  116969\n",
      "26          27              7.5  112635\n",
      "27          28              8.3  122391\n",
      "28          29              9.1  121872\n",
      "29          30             10.1  123014\n"
     ]
    }
   ],
   "source": [
    "dataset=pd.read_csv(\"SalaryData.csv\")\n",
    "print(dataset)"
   ]
  },
  {
   "cell_type": "code",
   "execution_count": 61,
   "metadata": {},
   "outputs": [
    {
     "name": "stdout",
     "output_type": "stream",
     "text": [
      "[ 1.1  1.3  1.5  1.7  1.9  2.1  2.3  2.3  2.9  3.   3.1  3.3  3.5  3.8\n",
      "  3.9  4.1  4.1  4.5  4.5  4.9  5.1  5.3  5.9  6.1  6.9  7.   7.5  8.3\n",
      "  9.1 10.1]\n"
     ]
    }
   ],
   "source": [
    "X=dataset.iloc[:,1].values\n",
    "print(X)"
   ]
  },
  {
   "cell_type": "code",
   "execution_count": 62,
   "metadata": {},
   "outputs": [
    {
     "name": "stdout",
     "output_type": "stream",
     "text": [
      "[ 39343  46205  37731  43525  39891  56642  60150  54445  64445  57189\n",
      "  63218  55794  56957  57081  61111  67938  66029  83088  81368  93940\n",
      "  91738  98273 101302 113812 109431 116969 112635 122391 121872 123014]\n"
     ]
    }
   ],
   "source": [
    "y=dataset.iloc[:,2].values\n",
    "print(y)"
   ]
  },
  {
   "cell_type": "code",
   "execution_count": 63,
   "metadata": {},
   "outputs": [
    {
     "name": "stdout",
     "output_type": "stream",
     "text": [
      "[ 8.3  3.3  4.5  5.9  2.1  4.1  2.9  3.9  6.1  5.1  1.3 10.1  2.3  1.9\n",
      "  4.5  4.9  3.   2.3  7.   1.7  1.1  5.3  4.1  3.5]\n",
      "[122391  55794  83088 101302  56642  66029  64445  61111 113812  91738\n",
      "  46205 123014  60150  39891  81368  93940  57189  54445 116969  43525\n",
      "  39343  98273  67938  56957]\n"
     ]
    }
   ],
   "source": [
    "from sklearn.model_selection import train_test_split\n",
    "X_train,X_test,y_train, y_test=train_test_split(X,y,test_size=0.2,random_state=0)\n",
    "print(X_train)\n",
    "print(y_train)"
   ]
  },
  {
   "cell_type": "code",
   "execution_count": 64,
   "metadata": {},
   "outputs": [
    {
     "name": "stdout",
     "output_type": "stream",
     "text": [
      "[1.5 9.1 3.8 3.1 7.5 6.9]\n"
     ]
    }
   ],
   "source": [
    "print(X_test)"
   ]
  },
  {
   "cell_type": "code",
   "execution_count": 65,
   "metadata": {},
   "outputs": [
    {
     "name": "stdout",
     "output_type": "stream",
     "text": [
      "[[ 8.3]\n",
      " [ 3.3]\n",
      " [ 4.5]\n",
      " [ 5.9]\n",
      " [ 2.1]\n",
      " [ 4.1]\n",
      " [ 2.9]\n",
      " [ 3.9]\n",
      " [ 6.1]\n",
      " [ 5.1]\n",
      " [ 1.3]\n",
      " [10.1]\n",
      " [ 2.3]\n",
      " [ 1.9]\n",
      " [ 4.5]\n",
      " [ 4.9]\n",
      " [ 3. ]\n",
      " [ 2.3]\n",
      " [ 7. ]\n",
      " [ 1.7]\n",
      " [ 1.1]\n",
      " [ 5.3]\n",
      " [ 4.1]\n",
      " [ 3.5]]\n"
     ]
    }
   ],
   "source": [
    "X_train=X_train.reshape(-1,1)\n",
    "X_test=X_test.reshape(-1,1)\n",
    "print(X_train)"
   ]
  },
  {
   "cell_type": "code",
   "execution_count": 66,
   "metadata": {},
   "outputs": [
    {
     "name": "stdout",
     "output_type": "stream",
     "text": [
      "[ 44820.6702424  131386.46372003  71018.21300537  63045.04781664\n",
      " 113162.08614579 106327.94455545]\n"
     ]
    }
   ],
   "source": [
    "from sklearn.linear_model import LinearRegression\n",
    "regressor=LinearRegression()\n",
    "regressor.fit(X_train,y_train)\n",
    "y_pred=regressor.predict(X_test)\n",
    "print(y_pred)"
   ]
  },
  {
   "cell_type": "code",
   "execution_count": 67,
   "metadata": {},
   "outputs": [
    {
     "data": {
      "text/plain": [
       "Text(0, 0.5, 'salaries')"
      ]
     },
     "execution_count": 67,
     "metadata": {},
     "output_type": "execute_result"
    },
    {
     "data": {
      "image/png": "[encoded data removed]",
      "text/plain": [
       "<Figure size 432x288 with 1 Axes>"
      ]
     },
     "metadata": {
      "needs_background": "light"
     },
     "output_type": "display_data"
    }
   ],
   "source": [
    "plt.plot(X_test,y_pred)\n",
    "plt.scatter(X_train,y_train,color=\"red\")\n",
    "plt.scatter(X_test,y_test,color=\"green\")\n",
    "plt.title(\"sample\")\n",
    "plt.xlabel(\"experince\")\n",
    "plt.ylabel(\"salaries\")"
   ]
  },
  {
   "cell_type": "code",
   "execution_count": 68,
   "metadata": {},
   "outputs": [
    {
     "name": "stdout",
     "output_type": "stream",
     "text": [
      "[122274.27493291  65323.09501342  78991.3781941   94937.70857155\n",
      "  51654.81183274  74435.28380054  60767.00061986  72157.23660376\n",
      "  97215.75576833  85825.51978443  42542.62304562 142776.69970393\n",
      "  53932.85902952  49376.76463596  78991.3781941   83547.47258766\n",
      "  61906.02421825  53932.85902952 107466.96815384  47098.71743918\n",
      "  40264.57584884  88103.56698121  74435.28380054  67601.1422102 ]\n"
     ]
    }
   ],
   "source": [
    "y_pred1=regressor.predict(X_train)\n",
    "print(y_pred1)"
   ]
  },
  {
   "cell_type": "code",
   "execution_count": 69,
   "metadata": {},
   "outputs": [
    {
     "data": {
      "text/plain": [
       "Text(0, 0.5, 'salaries')"
      ]
     },
     "execution_count": 69,
     "metadata": {},
     "output_type": "execute_result"
    },
    {
     "data": {
      "image/png": "[encoded data removed]",
      "text/plain": [
       "<Figure size 432x288 with 1 Axes>"
      ]
     },
     "metadata": {
      "needs_background": "light"
     },
     "output_type": "display_data"
    }
   ],
   "source": [
    "plt.plot(X_train,y_pred1)\n",
    "plt.scatter(X_train,y_train,color=\"red\")\n",
    "plt.scatter(X_test,y_test,color=\"green\")\n",
    "plt.title(\"sample\")\n",
    "plt.xlabel(\"experince\")\n",
    "plt.ylabel(\"salaries\")"
   ]
  },
  {
   "cell_type": "code",
   "execution_count": 73,
   "metadata": {},
   "outputs": [
    {
     "name": "stdout",
     "output_type": "stream",
     "text": [
      "[156444.9828846]\n"
     ]
    }
   ],
   "source": [
    "y_prediction=regressor.predict([[11.3]])\n",
    "print(y_prediction)"
   ]
  },
  {
   "cell_type": "code",
   "execution_count": null,
   "metadata": {},
   "outputs": [],
   "source": []
  }
 ],
 "metadata": {
  "kernelspec": {
   "display_name": "Python 3",
   "language": "python",
   "name": "python3"
  },
  "language_info": {
   "codemirror_mode": {
    "name": "ipython",
    "version": 3
   },
   "file_extension": ".py",
   "mimetype": "text/x-python",
   "name": "python",
   "nbconvert_exporter": "python",
   "pygments_lexer": "ipython3",
   "version": "3.7.6"
  }
 },
 "nbformat": 4,
 "nbformat_minor": 4
}

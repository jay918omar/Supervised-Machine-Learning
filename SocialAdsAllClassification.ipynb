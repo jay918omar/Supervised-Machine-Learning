{
 "cells": [
  {
   "cell_type": "code",
   "execution_count": 95,
   "metadata": {},
   "outputs": [],
   "source": [
    "%config IPCompleter.greedy=True"
   ]
  },
  {
   "cell_type": "code",
   "execution_count": 96,
   "metadata": {},
   "outputs": [],
   "source": [
    "import pandas as pd\n",
    "import numpy as nm\n",
    "import matplotlib.pyplot as plt"
   ]
  },
  {
   "cell_type": "code",
   "execution_count": 97,
   "metadata": {},
   "outputs": [
    {
     "name": "stdout",
     "output_type": "stream",
     "text": [
      "[0 0 0 0 0 0 0 1 0 1 0 0 0 0 0 1 0 0 1 0 0 1 0 1 0 1 0 0 0 0 0 0 1 0 0 0 0\n",
      " 0 0 1 0 0 0 0 1 0 0 1 0 1 1 0 0 1 1 1 0 0 1 0 0 1 0 1 0 1 0 0 0 0 1 0 0 1\n",
      " 0 0 0 0 1 1]\n",
      "[[55  3]\n",
      " [ 1 21]]\n",
      "0.95\n"
     ]
    }
   ],
   "source": [
    "dataset=pd.read_csv(\"Social_Network_Ads.csv\")\n",
    "X=dataset.iloc[:,2:4].values\n",
    "y=dataset.iloc[:,4].values\n",
    "\n",
    "from sklearn.model_selection import train_test_split\n",
    "X_train,X_test,y_train,y_test=train_test_split(X,y,test_size=0.2,random_state=0)\n",
    "\n",
    "from sklearn.preprocessing import StandardScaler\n",
    "scaler=StandardScaler()\n",
    "X_train=scaler.fit_transform(X_train)\n",
    "X_test=scaler.fit_transform(X_test)\n",
    "\n",
    "from sklearn.neighbors import KNeighborsClassifier\n",
    "neighbour=KNeighborsClassifier(n_neighbors=11,metric=\"minkowski\",p=2)\n",
    "neighbour.fit(X_train,y_train)\n",
    "y_pred=neighbour.predict(X_test)\n",
    "print(y_pred)\n",
    "\n",
    "from sklearn.metrics import confusion_matrix, accuracy_score\n",
    "cm=confusion_matrix(y_test,y_pred)\n",
    "print(cm)\n",
    "acc=accuracy_score(y_test,y_pred)\n",
    "print(acc)"
   ]
  },
  {
   "cell_type": "code",
   "execution_count": 98,
   "metadata": {},
   "outputs": [
    {
     "name": "stdout",
     "output_type": "stream",
     "text": [
      "[0 0 0 0 0 0 0 1 0 0 0 0 0 0 0 1 0 0 1 0 0 1 0 1 0 1 0 0 0 0 0 0 1 0 0 0 0\n",
      " 0 0 1 0 0 0 0 1 0 0 1 0 1 1 0 0 1 1 1 0 0 1 0 0 1 0 1 0 0 1 0 0 1 1 0 0 1\n",
      " 1 0 0 0 1 1]\n",
      "[[53  5]\n",
      " [ 2 20]]\n",
      "0.9125\n"
     ]
    }
   ],
   "source": [
    "from sklearn.tree import DecisionTreeClassifier\n",
    "tree=DecisionTreeClassifier()\n",
    "tree.fit(X_train,y_train)\n",
    "y_pred1=tree.predict(X_test)\n",
    "print(y_pred1)\n",
    "\n",
    "from sklearn.metrics import accuracy_score, confusion_matrix\n",
    "cm1=confusion_matrix(y_test,y_pred1)\n",
    "print(cm1)\n",
    "acc1=accuracy_score(y_test,y_pred1)\n",
    "print(acc1)"
   ]
  },
  {
   "cell_type": "code",
   "execution_count": 99,
   "metadata": {},
   "outputs": [
    {
     "name": "stdout",
     "output_type": "stream",
     "text": [
      "[0 0 0 0 0 0 0 1 0 1 0 0 0 0 0 1 0 0 1 0 0 1 0 1 0 1 0 0 0 0 0 0 1 0 0 0 0\n",
      " 0 0 1 0 0 0 0 1 0 0 1 0 1 1 0 0 1 1 1 0 0 1 0 0 1 0 1 0 1 0 0 0 0 1 0 0 1\n",
      " 0 0 1 0 1 1]\n",
      "0.9375\n",
      "[[54  4]\n",
      " [ 1 21]]\n"
     ]
    }
   ],
   "source": [
    "from sklearn.naive_bayes import GaussianNB\n",
    "naive=GaussianNB()\n",
    "naive.fit(X_train,y_train)\n",
    "y_pred2=naive.predict(X_test)\n",
    "print(y_pred2)\n",
    "\n",
    "from sklearn.metrics import confusion_matrix, accuracy_score\n",
    "acc2=accuracy_score(y_test,y_pred2)\n",
    "print(acc2)\n",
    "cm2=confusion_matrix(y_test,y_pred2)\n",
    "print(cm2)"
   ]
  },
  {
   "cell_type": "code",
   "execution_count": 100,
   "metadata": {},
   "outputs": [
    {
     "name": "stdout",
     "output_type": "stream",
     "text": [
      "[0 0 0 0 0 0 0 1 0 1 0 0 0 1 0 1 0 0 1 0 0 1 0 1 0 1 0 0 0 0 0 0 1 0 0 0 0\n",
      " 0 0 1 0 0 0 0 1 0 0 1 0 1 1 0 0 1 1 0 0 0 1 0 0 1 0 1 0 1 0 0 0 1 1 0 0 0\n",
      " 0 0 1 0 1 1]\n",
      "[[52  6]\n",
      " [ 3 19]]\n",
      "0.8875\n"
     ]
    }
   ],
   "source": [
    "from sklearn.svm import SVC\n",
    "classi=SVC(kernel='linear')\n",
    "classi.fit(X_train,y_train)\n",
    "y_pred3=classi.predict(X_test)\n",
    "print(y_pred3)\n",
    "\n",
    "from sklearn.metrics import accuracy_score, confusion_matrix\n",
    "cm3=confusion_matrix(y_test,y_pred3)\n",
    "print(cm3)\n",
    "acc3=accuracy_score(y_test,y_pred3)\n",
    "print(acc3)"
   ]
  },
  {
   "cell_type": "code",
   "execution_count": 101,
   "metadata": {},
   "outputs": [
    {
     "name": "stdout",
     "output_type": "stream",
     "text": [
      "[0 0 0 0 0 0 0 1 0 1 0 0 0 0 0 1 0 0 1 0 0 1 0 1 0 1 0 0 0 0 0 0 1 0 0 0 0\n",
      " 0 0 1 0 0 0 0 1 0 0 1 0 1 1 0 0 1 1 1 0 0 1 0 0 1 0 1 0 0 1 0 0 0 1 0 0 1\n",
      " 1 0 0 0 1 1]\n",
      "[[53  5]\n",
      " [ 2 20]]\n",
      "0.9125\n"
     ]
    }
   ],
   "source": [
    "from sklearn.ensemble import RandomForestClassifier\n",
    "forest_regressor=RandomForestClassifier(n_estimators=50)\n",
    "forest_regressor.fit(X_train,y_train)\n",
    "y_pred4=forest_regressor.predict(X_test)\n",
    "print(y_pred4)\n",
    "\n",
    "from sklearn.metrics import accuracy_score, confusion_matrix\n",
    "cm4=confusion_matrix(y_test,y_pred4)\n",
    "print(cm4)\n",
    "acc4=accuracy_score(y_test,y_pred4)\n",
    "print(acc4)"
   ]
  },
  {
   "cell_type": "code",
   "execution_count": null,
   "metadata": {},
   "outputs": [],
   "source": []
  },
  {
   "cell_type": "code",
   "execution_count": null,
   "metadata": {},
   "outputs": [],
   "source": []
  }
 ],
 "metadata": {
  "kernelspec": {
   "display_name": "Python 3",
   "language": "python",
   "name": "python3"
  },
  "language_info": {
   "codemirror_mode": {
    "name": "ipython",
    "version": 3
   },
   "file_extension": ".py",
   "mimetype": "text/x-python",
   "name": "python",
   "nbconvert_exporter": "python",
   "pygments_lexer": "ipython3",
   "version": "3.7.7"
  }
 },
 "nbformat": 4,
 "nbformat_minor": 4
}

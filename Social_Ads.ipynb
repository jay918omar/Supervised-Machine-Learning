{
 "cells": [
  {
   "cell_type": "code",
   "execution_count": 171,
   "metadata": {},
   "outputs": [],
   "source": [
    "%config IPCompleter.greedy=True"
   ]
  },
  {
   "cell_type": "code",
   "execution_count": 172,
   "metadata": {},
   "outputs": [],
   "source": [
    "import pandas as pd\n",
    "import numpy as np"
   ]
  },
  {
   "cell_type": "code",
   "execution_count": 173,
   "metadata": {},
   "outputs": [
    {
     "name": "stdout",
     "output_type": "stream",
     "text": [
      "      User ID  Gender  Age  EstimatedSalary  Purchased\n",
      "0    15624510    Male   19            19000          0\n",
      "1    15810944    Male   35            20000          0\n",
      "2    15668575  Female   26            43000          0\n",
      "3    15603246  Female   27            57000          0\n",
      "4    15804002    Male   19            76000          0\n",
      "..        ...     ...  ...              ...        ...\n",
      "395  15691863  Female   46            41000          1\n",
      "396  15706071    Male   51            23000          1\n",
      "397  15654296  Female   50            20000          1\n",
      "398  15755018    Male   36            33000          0\n",
      "399  15594041  Female   49            36000          1\n",
      "\n",
      "[400 rows x 5 columns]\n"
     ]
    }
   ],
   "source": [
    "dataset=pd.read_csv(\"Social_Network_Ads.csv\")\n",
    "print(dataset)"
   ]
  },
  {
   "cell_type": "code",
   "execution_count": 174,
   "metadata": {},
   "outputs": [
    {
     "name": "stdout",
     "output_type": "stream",
     "text": [
      "[['Male' 19 19000]\n",
      " ['Male' 35 20000]\n",
      " ['Female' 26 43000]\n",
      " ...\n",
      " ['Female' 50 20000]\n",
      " ['Male' 36 33000]\n",
      " ['Female' 49 36000]]\n"
     ]
    }
   ],
   "source": [
    "X=dataset.iloc[:,1:4].values\n",
    "print(X)"
   ]
  },
  {
   "cell_type": "code",
   "execution_count": 175,
   "metadata": {},
   "outputs": [
    {
     "name": "stdout",
     "output_type": "stream",
     "text": [
      "[0 0 0 0 0 0 0 1 0 0 0 0 0 0 0 0 1 1 1 1 1 1 1 1 1 1 1 1 0 0 0 1 0 0 0 0 0\n",
      " 0 0 0 0 0 0 0 0 0 0 0 1 0 0 0 0 0 0 0 0 0 0 0 0 0 0 1 0 0 0 0 0 0 0 0 0 0\n",
      " 0 1 0 0 0 0 0 0 0 0 0 1 0 0 0 0 0 0 0 0 0 0 0 1 0 0 0 0 0 1 0 0 0 0 0 0 0\n",
      " 0 0 0 0 0 0 0 0 0 0 0 0 0 0 0 0 0 0 0 0 0 0 0 0 0 0 1 0 0 0 0 0 0 0 0 1 0\n",
      " 0 0 0 0 0 0 0 0 0 0 0 1 1 0 0 0 0 0 0 0 1 0 0 0 0 0 0 0 0 0 0 0 0 0 1 0 0\n",
      " 0 0 0 0 0 0 0 0 0 0 0 0 0 0 0 0 0 1 0 1 0 1 0 1 0 1 1 0 0 0 1 0 0 0 1 0 1\n",
      " 1 1 0 0 1 1 0 1 1 0 1 1 0 1 0 0 0 1 1 0 1 1 0 1 0 1 0 1 0 0 1 1 0 1 0 0 1\n",
      " 1 0 1 1 0 1 1 0 0 1 0 0 1 1 1 1 1 0 1 1 1 1 0 1 1 0 1 0 1 0 1 1 1 1 0 0 0\n",
      " 1 1 0 1 1 1 1 1 0 0 0 1 1 0 0 1 0 1 0 1 1 0 1 0 1 1 0 1 1 0 0 0 1 1 0 1 0\n",
      " 0 1 0 1 0 0 1 1 0 0 1 1 0 1 1 0 0 1 0 1 0 1 1 1 0 1 0 1 1 1 0 1 1 1 1 0 1\n",
      " 1 1 0 1 0 1 0 0 1 1 0 1 1 1 1 1 1 0 1 1 1 1 1 1 0 1 1 1 0 1]\n"
     ]
    }
   ],
   "source": [
    "y=dataset.iloc[:,-1].values\n",
    "print(y)"
   ]
  },
  {
   "cell_type": "code",
   "execution_count": 176,
   "metadata": {},
   "outputs": [
    {
     "name": "stdout",
     "output_type": "stream",
     "text": [
      "[[0.0 1.0 19 19000]\n",
      " [0.0 1.0 35 20000]\n",
      " [1.0 0.0 26 43000]\n",
      " ...\n",
      " [1.0 0.0 50 20000]\n",
      " [0.0 1.0 36 33000]\n",
      " [1.0 0.0 49 36000]]\n"
     ]
    }
   ],
   "source": [
    "from sklearn.compose import ColumnTransformer\n",
    "from sklearn.preprocessing import OneHotEncoder\n",
    "ct=ColumnTransformer(transformers=[(\"encoder\",OneHotEncoder(),[0])], remainder=\"passthrough\")\n",
    "X=np.array(ct.fit_transform(X))\n",
    "print(X)"
   ]
  },
  {
   "cell_type": "code",
   "execution_count": 177,
   "metadata": {},
   "outputs": [
    {
     "name": "stdout",
     "output_type": "stream",
     "text": [
      "[[0.         1.         0.02380952 0.02962963]\n",
      " [0.         1.         0.4047619  0.03703704]\n",
      " [1.         0.         0.19047619 0.20740741]\n",
      " ...\n",
      " [1.         0.         0.76190476 0.03703704]\n",
      " [0.         1.         0.42857143 0.13333333]\n",
      " [1.         0.         0.73809524 0.15555556]]\n"
     ]
    }
   ],
   "source": [
    "from sklearn.preprocessing import MinMaxScaler\n",
    "norm=MinMaxScaler()\n",
    "X=norm.fit_transform(X)\n",
    "print(X)"
   ]
  },
  {
   "cell_type": "code",
   "execution_count": 178,
   "metadata": {},
   "outputs": [
    {
     "name": "stdout",
     "output_type": "stream",
     "text": [
      "[[0.         1.         0.28571429 0.53333333]\n",
      " [1.         0.         0.47619048 0.25925926]\n",
      " [0.         1.         0.4047619  0.44444444]\n",
      " [1.         0.         0.28571429 0.47407407]\n",
      " [1.         0.         0.4047619  0.25925926]\n",
      " [0.         1.         0.21428571 0.03703704]\n",
      " [1.         0.         0.30952381 0.        ]\n",
      " [0.         1.         0.42857143 0.95555556]\n",
      " [1.         0.         0.         0.39259259]\n",
      " [0.         1.         0.69047619 0.20740741]\n",
      " [0.         1.         0.28571429 0.25185185]\n",
      " [1.         0.         0.23809524 0.2962963 ]\n",
      " [0.         1.         0.45238095 0.2962963 ]\n",
      " [0.         1.         0.5        0.45925926]\n",
      " [0.         1.         0.04761905 0.52592593]\n",
      " [1.         0.         0.33333333 0.75555556]\n",
      " [0.         1.         0.45238095 0.45925926]\n",
      " [0.         1.         0.02380952 0.51851852]\n",
      " [1.         0.         0.88095238 0.85185185]\n",
      " [0.         1.         0.4047619  0.05185185]\n",
      " [1.         0.         0.4047619  0.23703704]\n",
      " [1.         0.         0.69047619 0.95555556]\n",
      " [1.         0.         0.54761905 0.26666667]\n",
      " [0.         1.         0.69047619 0.66666667]\n",
      " [1.         0.         0.11904762 0.0962963 ]\n",
      " [1.         0.         0.73809524 0.93333333]\n",
      " [1.         0.         0.23809524 0.53333333]\n",
      " [0.         1.         0.26190476 0.48148148]\n",
      " [1.         0.         0.45238095 0.34814815]\n",
      " [1.         0.         0.33333333 0.52592593]\n",
      " [0.         1.         0.07142857 0.54074074]\n",
      " [0.         1.         0.45238095 0.47407407]\n",
      " [0.         1.         0.92857143 0.33333333]\n",
      " [0.         1.         0.45238095 0.28148148]\n",
      " [0.         1.         0.14285714 0.31851852]\n",
      " [0.         1.         0.         0.27407407]\n",
      " [0.         1.         0.0952381  0.48888889]\n",
      " [1.         0.         0.38095238 0.20740741]\n",
      " [1.         0.         0.30952381 0.14074074]\n",
      " [1.         0.         0.73809524 0.15555556]\n",
      " [0.         1.         0.21428571 0.54074074]\n",
      " [0.         1.         0.54761905 0.27407407]\n",
      " [1.         0.         0.21428571 0.51111111]\n",
      " [0.         1.         0.4047619  0.03703704]\n",
      " [1.         0.         0.5952381  0.71851852]\n",
      " [1.         0.         0.21428571 0.31851852]\n",
      " [1.         0.         0.45238095 0.48148148]\n",
      " [1.         0.         0.80952381 0.55555556]\n",
      " [0.         1.         0.19047619 0.11111111]\n",
      " [0.         1.         0.73809524 0.52592593]\n",
      " [1.         0.         0.92857143 0.79259259]\n",
      " [1.         0.         0.38095238 0.07407407]\n",
      " [1.         0.         0.4047619  0.31111111]\n",
      " [0.         1.         0.38095238 0.74074074]\n",
      " [1.         0.         0.97619048 0.54074074]\n",
      " [0.         1.         0.64285714 0.12592593]\n",
      " [1.         0.         0.26190476 0.5037037 ]\n",
      " [1.         0.         0.19047619 0.48148148]\n",
      " [0.         1.         0.73809524 0.0962963 ]\n",
      " [0.         1.         0.11904762 0.03703704]\n",
      " [0.         1.         0.33333333 0.02222222]\n",
      " [0.         1.         1.         0.2       ]\n",
      " [0.         1.         0.02380952 0.45185185]\n",
      " [0.         1.         0.42857143 0.62222222]\n",
      " [1.         0.         0.02380952 0.08148148]\n",
      " [0.         1.         1.         0.5037037 ]\n",
      " [1.         0.         0.14285714 0.54814815]\n",
      " [0.         1.         0.21428571 0.31851852]\n",
      " [0.         1.         0.52380952 0.23703704]\n",
      " [1.         0.         0.57142857 0.40740741]\n",
      " [1.         0.         0.33333333 1.        ]\n",
      " [1.         0.         0.4047619  0.45925926]\n",
      " [1.         0.         0.0952381  0.35555556]\n",
      " [0.         1.         0.64285714 0.05185185]\n",
      " [0.         1.         0.21428571 0.54814815]\n",
      " [0.         1.         0.         0.4962963 ]\n",
      " [1.         0.         0.57142857 0.47407407]\n",
      " [1.         0.         0.52380952 0.33333333]\n",
      " [1.         0.         0.83333333 0.14074074]\n",
      " [1.         0.         0.69047619 0.68148148]]\n"
     ]
    }
   ],
   "source": [
    "from sklearn.model_selection import train_test_split\n",
    "X_train, X_test, y_train, y_test=train_test_split(X,y,test_size=0.2,random_state=0)\n",
    "print(X_test)"
   ]
  },
  {
   "cell_type": "code",
   "execution_count": 179,
   "metadata": {},
   "outputs": [
    {
     "data": {
      "text/plain": [
       "RandomForestRegressor(bootstrap=True, ccp_alpha=0.0, criterion='mse',\n",
       "                      max_depth=None, max_features='auto', max_leaf_nodes=None,\n",
       "                      max_samples=None, min_impurity_decrease=0.0,\n",
       "                      min_impurity_split=None, min_samples_leaf=1,\n",
       "                      min_samples_split=2, min_weight_fraction_leaf=0.0,\n",
       "                      n_estimators=40, n_jobs=None, oob_score=False,\n",
       "                      random_state=None, verbose=0, warm_start=False)"
      ]
     },
     "execution_count": 179,
     "metadata": {},
     "output_type": "execute_result"
    }
   ],
   "source": [
    "from sklearn.ensemble import RandomForestRegressor\n",
    "regression=RandomForestRegressor(n_estimators=40)\n",
    "regression.fit(X_train,y_train)"
   ]
  },
  {
   "cell_type": "code",
   "execution_count": 180,
   "metadata": {},
   "outputs": [
    {
     "name": "stdout",
     "output_type": "stream",
     "text": [
      "[0 0 0 0 0 0 0 1 0 0 0 0 0 0 0 0 0 0 1 0 0 1 0 1 0 1 0 0 0 0 0 1 1 0 0 0 0\n",
      " 0 0 1 0 0 0 0 1 0 0 1 0 1 1 0 0 0 1 1 0 0 1 0 0 1 0 1 0 1 0 0 0 0 1 0 0 1\n",
      " 0 0 0 0 1 1]\n"
     ]
    }
   ],
   "source": [
    "print(y_test)"
   ]
  },
  {
   "cell_type": "code",
   "execution_count": 181,
   "metadata": {},
   "outputs": [
    {
     "name": "stdout",
     "output_type": "stream",
     "text": [
      "[0.    0.    0.    0.    0.    0.    0.    1.    0.    0.625 0.    0.\n",
      " 0.175 0.25  0.    0.875 0.325 0.    0.975 0.    0.    0.675 0.    0.975\n",
      " 0.    0.575 0.    0.    0.175 0.    0.    0.225 0.9   0.175 0.    0.\n",
      " 0.    0.    0.    1.    0.    0.    0.    0.    0.4   0.    0.125 0.725\n",
      " 0.    0.95  0.975 0.    0.    0.675 0.6   0.95  0.    0.    1.    0.\n",
      " 0.    0.825 0.    1.    0.    0.65  0.    0.    0.    0.425 1.    0.075\n",
      " 0.    0.85  0.    0.    0.525 0.    1.    0.9  ]\n"
     ]
    }
   ],
   "source": [
    "y_pred=regression.predict(X_test)\n",
    "print(y_pred)"
   ]
  },
  {
   "cell_type": "code",
   "execution_count": 182,
   "metadata": {},
   "outputs": [
    {
     "data": {
      "text/plain": [
       "0.7470611285266457"
      ]
     },
     "execution_count": 182,
     "metadata": {},
     "output_type": "execute_result"
    }
   ],
   "source": [
    "from sklearn.metrics import r2_score\n",
    "r2_score(y_test,y_pred)"
   ]
  },
  {
   "cell_type": "code",
   "execution_count": 183,
   "metadata": {},
   "outputs": [
    {
     "data": {
      "text/plain": [
       "KNeighborsClassifier(algorithm='auto', leaf_size=30, metric='minkowski',\n",
       "                     metric_params=None, n_jobs=None, n_neighbors=11, p=2,\n",
       "                     weights='uniform')"
      ]
     },
     "execution_count": 183,
     "metadata": {},
     "output_type": "execute_result"
    }
   ],
   "source": [
    "from sklearn.neighbors import KNeighborsClassifier\n",
    "neighbour=KNeighborsClassifier(n_neighbors=11,metric=\"minkowski\",p=2)\n",
    "neighbour.fit(X_train,y_train)"
   ]
  },
  {
   "cell_type": "code",
   "execution_count": 184,
   "metadata": {},
   "outputs": [
    {
     "name": "stdout",
     "output_type": "stream",
     "text": [
      "[0 0 0 0 0 0 0 1 0 1 0 0 0 0 0 1 0 0 1 0 0 1 0 1 0 1 0 0 0 0 0 0 1 0 0 0 0\n",
      " 0 0 1 0 0 0 0 1 0 0 1 0 1 1 0 0 1 1 1 0 0 1 0 0 1 0 1 0 1 0 0 0 0 1 0 0 1\n",
      " 0 0 0 0 1 1]\n"
     ]
    }
   ],
   "source": [
    "y_pred1=neighbour.predict(X_test)\n",
    "print(y_pred1)"
   ]
  },
  {
   "cell_type": "code",
   "execution_count": 185,
   "metadata": {},
   "outputs": [
    {
     "name": "stdout",
     "output_type": "stream",
     "text": [
      "0.95\n",
      "[[55  3]\n",
      " [ 1 21]]\n"
     ]
    }
   ],
   "source": [
    "from sklearn.metrics import confusion_matrix, accuracy_score\n",
    "cm=confusion_matrix(y_test,y_pred1)\n",
    "acc=accuracy_score(y_test,y_pred1)\n",
    "print(acc)\n",
    "print(cm)"
   ]
  },
  {
   "cell_type": "code",
   "execution_count": null,
   "metadata": {},
   "outputs": [],
   "source": []
  }
 ],
 "metadata": {
  "kernelspec": {
   "display_name": "Python 3",
   "language": "python",
   "name": "python3"
  },
  "language_info": {
   "codemirror_mode": {
    "name": "ipython",
    "version": 3
   },
   "file_extension": ".py",
   "mimetype": "text/x-python",
   "name": "python",
   "nbconvert_exporter": "python",
   "pygments_lexer": "ipython3",
   "version": "3.7.6"
  }
 },
 "nbformat": 4,
 "nbformat_minor": 4
}

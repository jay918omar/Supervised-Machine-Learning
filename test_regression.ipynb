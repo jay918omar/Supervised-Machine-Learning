{
 "cells": [
  {
   "cell_type": "code",
   "execution_count": 384,
   "metadata": {},
   "outputs": [],
   "source": [
    "%config IPComleter.greedy=True"
   ]
  },
  {
   "cell_type": "code",
   "execution_count": 385,
   "metadata": {},
   "outputs": [],
   "source": [
    "import numpy as nm\n",
    "import pandas as pd\n",
    "import matplotlib.pyplot as plt"
   ]
  },
  {
   "cell_type": "code",
   "execution_count": 386,
   "metadata": {},
   "outputs": [
    {
     "name": "stdout",
     "output_type": "stream",
     "text": [
      "      x          y\n",
      "0    77  79.775152\n",
      "1    21  23.177279\n",
      "2    22  25.609262\n",
      "3    20  17.857388\n",
      "4    36  41.849864\n",
      "..   ..        ...\n",
      "295  71  68.545888\n",
      "296  46  47.334876\n",
      "297  55  54.090637\n",
      "298  62  63.297171\n",
      "299  47  52.459467\n",
      "\n",
      "[300 rows x 2 columns]\n"
     ]
    }
   ],
   "source": [
    "dataset=pd.read_csv(\"test.csv\")\n",
    "print(dataset)"
   ]
  },
  {
   "cell_type": "code",
   "execution_count": 387,
   "metadata": {},
   "outputs": [],
   "source": [
    "X=dataset.iloc[:,0].values"
   ]
  },
  {
   "cell_type": "code",
   "execution_count": 388,
   "metadata": {},
   "outputs": [],
   "source": [
    "X=X.reshape(-1,1)\n",
    "y=dataset.iloc[:,1].values"
   ]
  },
  {
   "cell_type": "code",
   "execution_count": 389,
   "metadata": {},
   "outputs": [],
   "source": [
    "from sklearn.model_selection import train_test_split\n",
    "X_train,X_test,y_train,y_test=train_test_split(X,y,test_size=0.2,random_state=0)"
   ]
  },
  {
   "cell_type": "code",
   "execution_count": 390,
   "metadata": {},
   "outputs": [
    {
     "data": {
      "text/plain": [
       "LinearRegression(copy_X=True, fit_intercept=True, n_jobs=None, normalize=False)"
      ]
     },
     "execution_count": 390,
     "metadata": {},
     "output_type": "execute_result"
    }
   ],
   "source": [
    "from sklearn.linear_model import LinearRegression\n",
    "LR=LinearRegression()\n",
    "LR.fit(X_train,y_train)"
   ]
  },
  {
   "cell_type": "code",
   "execution_count": 391,
   "metadata": {},
   "outputs": [
    {
     "name": "stdout",
     "output_type": "stream",
     "text": [
      "[ 67.43480541  26.85681758  96.8538466  100.91164538  27.87126727\n",
      "  65.40590602  37.00131454  40.04466362  52.21805998  89.75269872\n",
      "  92.79604781  14.68342123  37.00131454  90.76714842  89.75269872\n",
      "  14.68342123  55.26140906  67.43480541  13.66897153  49.17471089\n",
      "  92.79604781  74.53595329  41.05911332  28.88571697  48.16026119\n",
      "  16.71232062  61.34810724  15.69787092  65.40590602  71.4926042\n",
      "  63.37700663  41.05911332  19.75566971  98.88274599   3.52447457\n",
      "  60.33365754  58.30475815  93.81049751  47.1458115   14.68342123\n",
      "  42.07356302  43.08801271  26.85681758  27.87126727  -0.53332421\n",
      "  53.23250967  56.27585876  82.65155085  95.8393969   37.00131454\n",
      "  53.23250967  44.10246241  56.27585876   0.48112548  57.29030845\n",
      "  60.33365754  20.7701194   79.60820176  59.31920785  84.68045024]\n"
     ]
    }
   ],
   "source": [
    "y_pred=LR.predict(X_test)\n",
    "print(y_pred)"
   ]
  },
  {
   "cell_type": "code",
   "execution_count": 392,
   "metadata": {},
   "outputs": [
    {
     "name": "stdout",
     "output_type": "stream",
     "text": [
      "0.9889794732637583\n"
     ]
    }
   ],
   "source": [
    "from sklearn.metrics import r2_score\n",
    "acc=r2_score(y_test,y_pred)\n",
    "print(acc)"
   ]
  },
  {
   "cell_type": "code",
   "execution_count": 393,
   "metadata": {},
   "outputs": [],
   "source": [
    "from sklearn.preprocessing import PolynomialFeatures\n",
    "poly=PolynomialFeatures(degree=6)\n",
    "X_poly=poly.fit_transform(X)"
   ]
  },
  {
   "cell_type": "code",
   "execution_count": 394,
   "metadata": {},
   "outputs": [],
   "source": [
    "from sklearn.model_selection import train_test_split\n",
    "X_train_poly,X_test_poly,y_train,y_test=train_test_split(X_poly,y,test_size=0.2,random_state=0)"
   ]
  },
  {
   "cell_type": "code",
   "execution_count": 395,
   "metadata": {},
   "outputs": [
    {
     "name": "stdout",
     "output_type": "stream",
     "text": [
      "[ 67.00079531  26.7245626   97.48028769 101.06283496  27.72956633\n",
      "  65.02055556  36.92132615  40.00917106  52.1923204   90.16707107\n",
      "  93.39550741  14.98873665  36.92132615  91.25226745  90.16707107\n",
      "  14.98873665  55.17365107  67.00079531  14.02252126  49.18461012\n",
      "  93.39550741  74.06847192  41.03707297  28.73884037  48.17580064\n",
      "  16.91718366  61.08358826  15.95313233  65.02055556  71.00733599\n",
      "  63.04966115  41.03707297  19.81879907  99.35518696   3.74352794\n",
      "  60.10100628  58.1342528   94.44743221  47.1639122   14.98873665\n",
      "  42.06359278  43.08836155  26.7245626   27.72956633  -1.19636671\n",
      "  53.18883322  56.16242735  82.52549296  96.49397211  36.92132615\n",
      "  53.18883322  44.11104726  56.16242735   0.11572616  57.1491768\n",
      "  60.10100628  20.79203332  79.3038676   59.11805106  84.69994871]\n"
     ]
    }
   ],
   "source": [
    "regressor=LinearRegression()\n",
    "regressor.fit(X_train_poly,y_train)\n",
    "y_pred1=regressor.predict(X_test_poly)\n",
    "print(y_pred1)"
   ]
  },
  {
   "cell_type": "code",
   "execution_count": 396,
   "metadata": {},
   "outputs": [
    {
     "name": "stdout",
     "output_type": "stream",
     "text": [
      "0.9887243663183485\n"
     ]
    }
   ],
   "source": [
    "from sklearn.metrics import r2_score\n",
    "acc1=r2_score(y_test,y_pred1)\n",
    "print(acc1)"
   ]
  },
  {
   "cell_type": "code",
   "execution_count": 397,
   "metadata": {},
   "outputs": [
    {
     "data": {
      "text/plain": [
       "SVR(C=1.0, cache_size=200, coef0=0.0, degree=3, epsilon=0.1, gamma='scale',\n",
       "    kernel='rbf', max_iter=-1, shrinking=True, tol=0.001, verbose=False)"
      ]
     },
     "execution_count": 397,
     "metadata": {},
     "output_type": "execute_result"
    }
   ],
   "source": [
    "from sklearn.svm import SVR\n",
    "svr=SVR(kernel=\"rbf\")\n",
    "svr.fit(X_train,y_train)"
   ]
  },
  {
   "cell_type": "code",
   "execution_count": 398,
   "metadata": {},
   "outputs": [
    {
     "name": "stdout",
     "output_type": "stream",
     "text": [
      "[66.47032698 26.67980306 85.63977289 84.19525467 27.72263195 64.40194459\n",
      " 37.36901435 40.47774932 51.91884945 85.18787673 85.85188784 16.97888524\n",
      " 37.36901435 85.48574729 85.18787673 16.97888524 54.68113356 66.47032698\n",
      " 16.53527343 49.16025704 85.85188784 73.79585356 41.48901671 28.78076526\n",
      " 48.2333137  18.07314691 60.38671206 17.49254977 64.40194459 70.67079741\n",
      " 62.37209043 41.48901671 20.18028984 85.06539019 16.32265926 59.41110083\n",
      " 57.49217036 85.91753223 47.29985708 16.97888524 42.48729646 43.47276779\n",
      " 26.67980306 27.72263195 18.3467162  52.83685298 55.61072344 81.19719151\n",
      " 85.81123364 37.36901435 52.83685298 44.44590181 55.61072344 17.74086749\n",
      " 56.54729624 59.41110083 20.9910017  78.66741444 58.44647105 82.64450629]\n"
     ]
    }
   ],
   "source": [
    "y_pred2=svr.predict(X_test)\n",
    "print(y_pred2)"
   ]
  },
  {
   "cell_type": "code",
   "execution_count": 399,
   "metadata": {},
   "outputs": [
    {
     "name": "stdout",
     "output_type": "stream",
     "text": [
      "0.9509209025004902\n"
     ]
    }
   ],
   "source": [
    "from sklearn.metrics import r2_score\n",
    "acc2=r2_score(y_test,y_pred2)\n",
    "print(acc2)"
   ]
  },
  {
   "cell_type": "code",
   "execution_count": 400,
   "metadata": {},
   "outputs": [
    {
     "data": {
      "text/plain": [
       "DecisionTreeRegressor(ccp_alpha=0.0, criterion='mse', max_depth=None,\n",
       "                      max_features=None, max_leaf_nodes=None,\n",
       "                      min_impurity_decrease=0.0, min_impurity_split=None,\n",
       "                      min_samples_leaf=1, min_samples_split=2,\n",
       "                      min_weight_fraction_leaf=0.0, presort='deprecated',\n",
       "                      random_state=None, splitter='best')"
      ]
     },
     "execution_count": 400,
     "metadata": {},
     "output_type": "execute_result"
    }
   ],
   "source": [
    "from sklearn.tree import DecisionTreeRegressor\n",
    "tree_class=DecisionTreeRegressor()\n",
    "tree_class.fit(X_train,y_train)"
   ]
  },
  {
   "cell_type": "code",
   "execution_count": 401,
   "metadata": {},
   "outputs": [
    {
     "name": "stdout",
     "output_type": "stream",
     "text": [
      "[ 63.80768172  24.15246371  96.0615655  103.60969627  29.35514071\n",
      "  65.89551593  40.03504862  39.59639727  52.01932286  92.03890938\n",
      "  95.3958003   15.32256334  40.03504862  95.39225857  92.03890938\n",
      "  15.32256334  52.91442473  63.80768172  15.32256334  49.88226593\n",
      "  95.3958003   73.99436607  39.32213411  29.35514071  49.88226593\n",
      "  14.86159401  59.17743737  16.47447334  65.89551593  69.25527231\n",
      "  62.51187787  39.32213411  19.79028649  98.32338398   5.78854623\n",
      "  62.05204312  55.30241212  94.07941934  49.1949057   15.32256334\n",
      "  40.80949475  43.51695026  24.15246371  29.35514071  -2.90631117\n",
      "  53.62235225  55.64622558  84.92113014  94.55020339  40.03504862\n",
      "  53.62235225  37.08457698  55.64622558   1.2762518   52.34477576\n",
      "  62.05204312  19.23214823  77.91032969  59.44234694  83.68820499]\n"
     ]
    }
   ],
   "source": [
    "y_pred3=tree_class.predict(X_test)\n",
    "print(y_pred3)"
   ]
  },
  {
   "cell_type": "code",
   "execution_count": 402,
   "metadata": {},
   "outputs": [
    {
     "name": "stdout",
     "output_type": "stream",
     "text": [
      "0.9840890703946696\n"
     ]
    }
   ],
   "source": [
    "from sklearn.metrics import r2_score\n",
    "acc3=r2_score(y_test,y_pred3)\n",
    "print(acc3)"
   ]
  },
  {
   "cell_type": "code",
   "execution_count": 403,
   "metadata": {},
   "outputs": [],
   "source": [
    "from sklearn.tree import export_graphviz\n",
    "export_graphviz(tree_class, out_file=\"tree.dot\", feature_names=['ME'])"
   ]
  },
  {
   "cell_type": "code",
   "execution_count": 404,
   "metadata": {},
   "outputs": [
    {
     "data": {
      "text/plain": [
       "RandomForestRegressor(bootstrap=True, ccp_alpha=0.0, criterion='mse',\n",
       "                      max_depth=None, max_features='auto', max_leaf_nodes=None,\n",
       "                      max_samples=None, min_impurity_decrease=0.0,\n",
       "                      min_impurity_split=None, min_samples_leaf=1,\n",
       "                      min_samples_split=2, min_weight_fraction_leaf=0.0,\n",
       "                      n_estimators=50, n_jobs=None, oob_score=False,\n",
       "                      random_state=None, verbose=0, warm_start=False)"
      ]
     },
     "execution_count": 404,
     "metadata": {},
     "output_type": "execute_result"
    }
   ],
   "source": [
    "from sklearn.ensemble import RandomForestRegressor\n",
    "forest_regressor=RandomForestRegressor(n_estimators=50)\n",
    "forest_regressor.fit(X_train,y_train)"
   ]
  },
  {
   "cell_type": "code",
   "execution_count": 405,
   "metadata": {},
   "outputs": [
    {
     "name": "stdout",
     "output_type": "stream",
     "text": [
      "[ 65.57595211  24.60426396  96.10318907 103.33804586  29.23413141\n",
      "  65.75381503  40.16226962  39.35927053  51.97316346  91.91734204\n",
      "  93.87620793  15.23193897  40.16226962  95.5782826   91.91734204\n",
      "  15.23193897  52.91648111  65.57595211  15.04159077  50.2425664\n",
      "  93.87620793  73.88590473  39.35731475  29.23413141  49.7057266\n",
      "  15.46671523  59.45133232  16.46384208  65.75381503  69.5094991\n",
      "  62.46048693  39.35731475  19.78599064  98.19272695   6.01799715\n",
      "  61.75020639  55.33560861  94.36379312  49.30836557  15.23193897\n",
      "  40.78102622  43.29255563  24.60426396  29.23413141  -2.5850661\n",
      "  53.53448185  55.65113206  83.15263964  94.49429417  40.16226962\n",
      "  53.53448185  39.24194369  55.65113206  -0.30893616  52.43225026\n",
      "  61.75020639  19.2953961   78.19678074  59.65475443  83.89586802]\n"
     ]
    }
   ],
   "source": [
    "y_pred4=forest_regressor.predict(X_test)\n",
    "print(y_pred4)"
   ]
  },
  {
   "cell_type": "code",
   "execution_count": 406,
   "metadata": {},
   "outputs": [
    {
     "name": "stdout",
     "output_type": "stream",
     "text": [
      "0.9859123347677976\n"
     ]
    }
   ],
   "source": [
    "from sklearn.metrics import r2_score\n",
    "acc4=r2_score(y_test,y_pred4)\n",
    "print(acc4)"
   ]
  },
  {
   "cell_type": "code",
   "execution_count": 407,
   "metadata": {},
   "outputs": [
    {
     "data": {
      "text/plain": [
       "KNeighborsRegressor(algorithm='auto', leaf_size=30, metric='minkowski',\n",
       "                    metric_params=None, n_jobs=None, n_neighbors=5, p=2,\n",
       "                    weights='uniform')"
      ]
     },
     "execution_count": 407,
     "metadata": {},
     "output_type": "execute_result"
    }
   ],
   "source": [
    "from sklearn.neighbors import KNeighborsRegressor\n",
    "classifier=KNeighborsRegressor(n_neighbors=5,metric=\"minkowski\",p=2)\n",
    "classifier.fit(X_train,y_train)"
   ]
  },
  {
   "cell_type": "code",
   "execution_count": 408,
   "metadata": {},
   "outputs": [
    {
     "name": "stdout",
     "output_type": "stream",
     "text": [
      "[ 66.50262932  26.16074508  97.39158128 101.28216389  27.27406991\n",
      "  64.3190608   39.55029391  37.99164357  51.98988976  90.26672332\n",
      "  92.99731328  14.81305282  39.55029391  94.03488822  90.26672332\n",
      "  14.81305282  52.91442473  66.50262932  14.07419268  50.0394138\n",
      "  92.99731328  73.16442856  39.36404742  27.25327249  48.34343285\n",
      "  15.47124381  60.79011893  16.15189747  64.3190608   71.87884883\n",
      "  62.81682876  39.36404742  20.13457195  98.26474263   6.38018652\n",
      "  60.40965841  56.92513943  95.08571287  48.34343285  14.81305282\n",
      "  40.91771965  40.91417814  26.16074508  27.27406991  -0.97861739\n",
      "  54.09704815  54.42741127  80.40218343  95.50271016  39.55029391\n",
      "  54.09704815  42.1422602   54.42741127  -0.84902343  53.18101003\n",
      "  60.40965841  19.23214823  79.1538194   59.73598609  85.41123933]\n"
     ]
    }
   ],
   "source": [
    "y_pred5=classifier.predict(X_test)\n",
    "print(y_pred5)"
   ]
  },
  {
   "cell_type": "code",
   "execution_count": 409,
   "metadata": {},
   "outputs": [
    {
     "name": "stdout",
     "output_type": "stream",
     "text": [
      "0.9860254790604237\n"
     ]
    }
   ],
   "source": [
    "from sklearn.metrics import r2_score\n",
    "acc5=r2_score(y_test,y_pred5)\n",
    "print(acc5)"
   ]
  },
  {
   "cell_type": "code",
   "execution_count": null,
   "metadata": {},
   "outputs": [],
   "source": []
  }
 ],
 "metadata": {
  "kernelspec": {
   "display_name": "Python 3",
   "language": "python",
   "name": "python3"
  },
  "language_info": {
   "codemirror_mode": {
    "name": "ipython",
    "version": 3
   },
   "file_extension": ".py",
   "mimetype": "text/x-python",
   "name": "python",
   "nbconvert_exporter": "python",
   "pygments_lexer": "ipython3",
   "version": "3.7.7"
  }
 },
 "nbformat": 4,
 "nbformat_minor": 4
}
